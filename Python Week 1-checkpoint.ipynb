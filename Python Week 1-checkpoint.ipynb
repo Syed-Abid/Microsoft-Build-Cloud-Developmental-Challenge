{
 "cells": [
  {
   "cell_type": "code",
   "execution_count": 16,
   "id": "6570e2f2",
   "metadata": {},
   "outputs": [
    {
     "name": "stdout",
     "output_type": "stream",
     "text": [
      "Hello World!\n",
      "7\n",
      "Bye 7\n",
      "4725\n",
      "Our life is like a thorny rose. Not perfect! but always beautiful.\n",
      "This is my first task of this week \n",
      "and there are more to come.\n",
      "My name is \"SYED ABID\"Hassan.\n"
     ]
    }
   ],
   "source": [
    "#these are the first learnings and tasks of the machine learning journey\n",
    "#It includes basic python like strings, slicing, if-else condition etc.\n",
    "#writing the first python program\n",
    "print(\"Hello World!\")\n",
    "print(7)\n",
    "print(\"Bye\",7)\n",
    "print(15*15*21)\n",
    "#Writing a poem using print function\n",
    "print(\"Our life is like a thorny rose.\",\n",
    "     \"Not perfect! but always beautiful.\")\n",
    "#to get a new line\n",
    "print(\"This is my first task of this week \\nand there are more to come.\")\n",
    "#to convert more than one lines into comment, we use CTRL + /.\n",
    "'''\n",
    "For a multi-line comment, \n",
    "we use triple single quote.\n",
    "'''\n",
    "#to use double-quotes in a double-quotes we write:\n",
    "print(\"My name is \\\"SYED ABID\\\"Hassan.\")"
   ]
  },
  {
   "cell_type": "code",
   "execution_count": 18,
   "id": "a081552e",
   "metadata": {},
   "outputs": [
    {
     "name": "stdout",
     "output_type": "stream",
     "text": [
      "Hey~6~7\n",
      "Hey~6~7009"
     ]
    }
   ],
   "source": [
    "#other features in python\n",
    "print(\"Hey\",6,7,sep=\"~\")\n",
    "print(\"Hey\",6,7,sep=\"~\",end=\"009\")"
   ]
  },
  {
   "cell_type": "code",
   "execution_count": 12,
   "id": "3aa874e6",
   "metadata": {},
   "outputs": [
    {
     "name": "stdout",
     "output_type": "stream",
     "text": [
      "1234354 Abid\n",
      "10\n",
      "<class 'int'>\n",
      "<class 'str'>\n",
      "<class 'complex'>\n",
      "[2, 3.4, 'fine', 'speed']\n",
      "(2, 3, 45, 5)\n",
      "{'name': 'Abid', 'age': 20, 'canvote': True}\n"
     ]
    }
   ],
   "source": [
    " #Now playing with some variables and data types\n",
    "a=1234354\n",
    "b=\"Abid\"\n",
    "print(a,b)\n",
    "Abid=10\n",
    "c=Abid\n",
    "print(c)\n",
    "#To find the data type of a variable we use this\n",
    "print(type(a))\n",
    "print(type(b))\n",
    "#There is another data type in numeric which is complex\n",
    "d=complex(2,3)\n",
    "print(type(d))\n",
    "#Now let's talk about list and tuples\n",
    "list1=[2,3.4,'fine','speed']\n",
    "print(list1)\n",
    "tuple1=(2,3,45,5)\n",
    "print(tuple1)\n",
    "#let's move to dictionary which contains mapped data\n",
    "dict1={\"name\":\"Abid\",\"age\":20,\"canvote\":True}\n",
    "print(dict1)"
   ]
  },
  {
   "cell_type": "code",
   "execution_count": 13,
   "id": "b082ec4c",
   "metadata": {},
   "outputs": [],
   "source": [
    "#Exercise 1: Building a calculator using python\n"
   ]
  },
  {
   "cell_type": "code",
   "execution_count": 15,
   "id": "88495a60",
   "metadata": {},
   "outputs": [
    {
     "name": "stdout",
     "output_type": "stream",
     "text": [
      "3\n",
      "4.3\n"
     ]
    }
   ],
   "source": [
    "#Type Casting in Pyhton\n",
    "# it is a conversion of one data type into another data type\n",
    "#Type casting has two types:\n",
    "# 1.Implicit Typecasting  2. Explicit Typecasting\n",
    "a=\"1\"\n",
    "b=\"2\"\n",
    "print(int(a)+int(b))\n",
    "#Implicit typecasting is done automatically by the python interpreter.\n",
    "#while explicit typecasting is done by the programmer.\n",
    "#Implicit typecasting looks like this\n",
    "c=2.3\n",
    "d=2\n",
    "print(c+d)"
   ]
  },
  {
   "cell_type": "code",
   "execution_count": 20,
   "id": "dbc4b008",
   "metadata": {},
   "outputs": [
    {
     "name": "stdout",
     "output_type": "stream",
     "text": [
      "Enter your name:Abid\n",
      "My name is Abid\n",
      "Enter your first number12\n",
      "Enter your second number32\n",
      "44\n",
      "Enter your full name:Syed Abid Hassan\n",
      "Syed Abid Hassan\n"
     ]
    }
   ],
   "source": [
    "#Now let's talk about the user input in python\n",
    "a=input(\"Enter your name:\")\n",
    "print(\"My name is\",a)\n",
    "# Its the second case where you have to change the data types of your variables \n",
    "b=input(\"Enter your first number\")\n",
    "c=input(\"Enter your second number\")\n",
    "print(int(b)+int(c))\n",
    "#Now it's the third case\n",
    "d=str(input(\"Enter your full name:\"))\n",
    "print(d)"
   ]
  },
  {
   "cell_type": "code",
   "execution_count": 30,
   "id": "702eee51",
   "metadata": {},
   "outputs": [
    {
     "name": "stdout",
     "output_type": "stream",
     "text": [
      "f\n",
      "it\n",
      "fitness\n",
      "fitne\n",
      "itnes\n"
     ]
    }
   ],
   "source": [
    "#Now let's talk about strings.\n",
    "# String is something that is enclosed in a single or double quotation.\n",
    "hobbies='fitness'\n",
    "#It's called string slicing, like you can print your string in multiple parts. \n",
    "print(hobbies[0])\n",
    "print(hobbies[1:3])\n",
    "print(hobbies[:])\n",
    "print(hobbies[:5])\n",
    "print(hobbies[1:-1])\n",
    "#to go through a string we can also use a for loop\n",
    "#for character in hobbies:\n",
    "#    print(character)"
   ]
  },
  {
   "cell_type": "code",
   "execution_count": 32,
   "id": "e2c562fa",
   "metadata": {},
   "outputs": [
    {
     "name": "stdout",
     "output_type": "stream",
     "text": [
      "4\n",
      "d\n"
     ]
    }
   ],
   "source": [
    "#Now, we will move towards string operations.\n",
    "#to find teh length of a string we use len() function.\n",
    "name=\"Abid\"\n",
    "print(len(name))\n",
    "nm=\"Syed\"\n",
    "print(nm[-1:])"
   ]
  },
  {
   "cell_type": "code",
   "execution_count": 20,
   "id": "c12186c2",
   "metadata": {},
   "outputs": [
    {
     "name": "stdout",
     "output_type": "stream",
     "text": [
      "I DON'T LIKE IT.\n",
      "i don't like it.\n",
      "i don't like it\n",
      "i don't like her.\n",
      "['i', \"don't\", 'like', 'it.']\n",
      "I don't like it.\n",
      "                 i don't like it.                 \n",
      "1\n",
      "True\n",
      "False\n",
      "13\n",
      "13\n",
      "False\n",
      "True\n",
      "False\n",
      "True\n",
      "False\n",
      "False\n",
      "False\n",
      "I DON'T LIKE IT.\n",
      "I Don'T Like It.\n"
     ]
    }
   ],
   "source": [
    "#Now,we will explore string methods.\n",
    "#Strings are immutable.\n",
    "phrase=\"i don't like it.\"\n",
    "print(phrase.upper()) #it prints the string in Uppercase\n",
    "print(phrase.lower()) #it prints the string in Lowercase\n",
    "print(phrase.rstrip('.')) #it prints the string without the dot(.)\n",
    "print(phrase.replace(\"it\",\"her\")) #it replaces all occurrences in a string with another string.\n",
    "print(phrase.split(\" \")) #it seperates the string at a specified instance at return it as the list items.\n",
    "print(phrase.capitalize()) #it prints the first letter of the string in uppercase.\n",
    "print(phrase.center(50)) #it prints the string according to the given parameter.\n",
    "print(phrase.count(\"like\")) #it counts the number of letters in the given string.\n",
    "print(phrase.endswith(\".\")) #it checks whether the string ends with the mentioned instance or not.\n",
    "print(phrase.endswith(\"n\",1,4)) #it checks that does the string specified by the index positions ends on the mentioned instance.\n",
    "print(phrase.find(\"it\")) #it finds the given instance in the string and return it's index positions.\n",
    "print(phrase.index(\"it\")) # it finds the instance and returns it's index value.\n",
    "print(phrase.isalnum()) #it checks that whether your string is alphanumeric or not.\n",
    "#print(phrase.isaplha())#it checks that doe syour string only consists of alphabets.\n",
    "print(phrase.islower())#it checks that whether your string is in lowercase or not.\n",
    "print(phrase.isupper())# it checks that whether all the characters in the string are uppercase or not.\n",
    "print(phrase.isprintable())#it checks that whether your string is printable or not.\n",
    "print(phrase.isspace())# it checks that whether your string has whitespaces or not.\n",
    "print(phrase.istitle())# it checks whether first letter of each word is capital or not.\n",
    "print(phrase.startswith(\"I\")) #it checks whether the string starts with given letter or not.\n",
    "print(phrase.swapcase())# it changes the uppercase to lowercase and vice versa.\n",
    "print(phrase.title())# it changes all the first letters of the word to uppercase."
   ]
  },
  {
   "cell_type": "code",
   "execution_count": null,
   "id": "761a5c97",
   "metadata": {},
   "outputs": [],
   "source": []
  }
 ],
 "metadata": {
  "kernelspec": {
   "display_name": "Python 3 (ipykernel)",
   "language": "python",
   "name": "python3"
  },
  "language_info": {
   "codemirror_mode": {
    "name": "ipython",
    "version": 3
   },
   "file_extension": ".py",
   "mimetype": "text/x-python",
   "name": "python",
   "nbconvert_exporter": "python",
   "pygments_lexer": "ipython3",
   "version": "3.9.13"
  }
 },
 "nbformat": 4,
 "nbformat_minor": 5
}
