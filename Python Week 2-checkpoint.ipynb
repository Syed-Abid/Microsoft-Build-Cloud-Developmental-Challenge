{
 "cells": [
  {
   "cell_type": "code",
   "execution_count": 8,
   "id": "68a41056",
   "metadata": {},
   "outputs": [
    {
     "name": "stdout",
     "output_type": "stream",
     "text": [
      "Enter your age:23\n",
      "age= 23\n",
      "False\n",
      "True\n",
      "False\n",
      "True\n",
      "You can drive.\n",
      "Hello!\n"
     ]
    }
   ],
   "source": [
    "#let's get started with the second week.\n",
    "# We will start with the if-else statement.\n",
    "a=int(input(\"Enter your age:\"))\n",
    "print(\"age=\",a)\n",
    "\n",
    "print(a == 18)\n",
    "print(a > 18)\n",
    "print(a < 18)\n",
    "print(a != 18)\n",
    "\n",
    "if(a > 18):\n",
    "    print(\"You can drive.\")\n",
    "else:\n",
    "    print(\"You cannot drive.\")\n",
    "\n",
    "#Now let's try a different case\n",
    "# if I print a line in this spacing, it will not be a part of if-else.\n",
    "print(\"Hello!\")"
   ]
  },
  {
   "cell_type": "code",
   "execution_count": 9,
   "id": "16bc8c78",
   "metadata": {},
   "outputs": [
    {
     "name": "stdout",
     "output_type": "stream",
     "text": [
      "You cannot afford it.\n"
     ]
    }
   ],
   "source": [
    "#Let's try another example.\n",
    "Laptop_price = 130000\n",
    "budget = 100000\n",
    "\n",
    "if(Laptop_price > budget):\n",
    "    print(\"You cannot afford it.\")\n",
    "else:\n",
    "    print(\"You can afford it.\")"
   ]
  },
  {
   "cell_type": "code",
   "execution_count": 11,
   "id": "7e41ec20",
   "metadata": {},
   "outputs": [
    {
     "name": "stdout",
     "output_type": "stream",
     "text": [
      "Enter a number:1233\n",
      "It's a odd number.\n"
     ]
    }
   ],
   "source": [
    "# We can also make a even and odd number classifier with this.\n",
    "num = int(input(\"Enter a number:\"))\n",
    "\n",
    "if((num % 2) == 0):\n",
    "    print(\"It's a even number.\")\n",
    "else:\n",
    "    print(\"It's a odd number.\")"
   ]
  },
  {
   "cell_type": "code",
   "execution_count": 18,
   "id": "7ff92fd4",
   "metadata": {},
   "outputs": [
    {
     "name": "stdout",
     "output_type": "stream",
     "text": [
      "Enter a number:32\n",
      "Enter a number:43\n",
      "Enter a number:23\n",
      "43 is the biggest number.\n"
     ]
    }
   ],
   "source": [
    "# Now, we will move towards nested if-else.\n",
    "b = int(input(\"Enter a number:\"))\n",
    "c = int(input(\"Enter a number:\"))\n",
    "d = int(input(\"Enter a number:\"))\n",
    "\n",
    "if(b>c & b>d):\n",
    "    print(\"%2d is the biggest number.\" %b)\n",
    "elif(c>b & c>d):\n",
    "    print(\"%2d is the biggest number.\"%c)\n",
    "else:\n",
    "    print(\"%2d is the biggest number.\"%d)\n"
   ]
  },
  {
   "cell_type": "code",
   "execution_count": 7,
   "id": "36b60a41",
   "metadata": {},
   "outputs": [
    {
     "ename": "SyntaxError",
     "evalue": "invalid syntax (74463730.py, line 6)",
     "output_type": "error",
     "traceback": [
      "\u001b[1;36m  File \u001b[1;32m\"C:\\Users\\Computer link\\AppData\\Local\\Temp\\ipykernel_7048\\74463730.py\"\u001b[1;36m, line \u001b[1;32m6\u001b[0m\n\u001b[1;33m    match x:\u001b[0m\n\u001b[1;37m          ^\u001b[0m\n\u001b[1;31mSyntaxError\u001b[0m\u001b[1;31m:\u001b[0m invalid syntax\n"
     ]
    }
   ],
   "source": [
    "#Now we will look into MatchCase Statements.\n",
    "# it has a variable and some case clauses.\n",
    "# if the value in the variable matches the case, that case get exceuted.\n",
    "x = int(input(\"Enter a number:\"))\n",
    "\n",
    "match x:\n",
    "    case 0:\n",
    "        print(\"This is zero.\")\n",
    "    case 2:\n",
    "        print(\"This is not zero.\")\n",
    "    case 4:\n",
    "        print(\"You are matched.\")\n",
    "    #case _ if(x > 2):\n",
    "    #    print(\"The condition has met.\")\n",
    "    case _:\n",
    "        print(x)\n",
    "# this is giving an error because it requires python 3.10 and it is a 3.9 version. "
   ]
  },
  {
   "cell_type": "code",
   "execution_count": 19,
   "id": "504c88f2",
   "metadata": {},
   "outputs": [
    {
     "name": "stdout",
     "output_type": "stream",
     "text": [
      "1\n",
      "2\n",
      "3\n",
      "4\n",
      "5\n",
      "6\n",
      "7\n",
      "8\n",
      "1\n",
      "4\n",
      "7\n",
      "10\n"
     ]
    }
   ],
   "source": [
    "# We are now talking about FOR Loop\n",
    "# this loop can iterate over a sequence of iterable objects.\n",
    "#name = \"SyedAbid\"\n",
    "#for i in name:\n",
    "#    print(i)\n",
    "#    if(i == \" \"):\n",
    "#        print(\"There is a whitespace.\")\n",
    "\n",
    "# we can also iterate over a list.\n",
    "#colors = ['red','pink','black','grey','white']\n",
    "#for name in colors:\n",
    "#    print(name)\n",
    "#    for i in name:  # this is called a loop in a loop.\n",
    "#        print(i)\n",
    "        \n",
    "# we can also iterate over numbers\n",
    "#for i in range(8):\n",
    "#    print(i)\n",
    "# we can also set a starting and ending point.    \n",
    "for i in range(1,9):\n",
    "    print(i)\n",
    "    \n",
    "# we can also use three arguments in which the starting two tells the\n",
    "# starting and ending point and the third one tells the difference of number \n",
    "# each time the iteration runs.\n",
    "for i in range(1,12,3):\n",
    "    print(i)"
   ]
  },
  {
   "cell_type": "code",
   "execution_count": 1,
   "id": "62eae80b",
   "metadata": {},
   "outputs": [
    {
     "name": "stdout",
     "output_type": "stream",
     "text": [
      "0\n",
      "1\n",
      "2\n",
      "Enter a number:32\n",
      "Enter a number:67\n",
      "67\n",
      "DONE!\n",
      "5\n",
      "4\n",
      "3\n",
      "2\n",
      "1\n"
     ]
    }
   ],
   "source": [
    "# now we will learn about the brother of for loop\n",
    "# The While Loop\n",
    "i = 0\n",
    "while(i<3):\n",
    "    print(i)\n",
    "    i=i+1\n",
    "    \n",
    "# Now let's watch another example.\n",
    "i=int(input(\"Enter a number:\"))\n",
    "while(i<=47):\n",
    "    i=int(input(\"Enter a number:\"))\n",
    "    print(i)\n",
    "    \n",
    "print(\"DONE!\")\n",
    "\n",
    "count = 5\n",
    "while(count > 0):\n",
    "    print(count)\n",
    "    count = count - 1"
   ]
  },
  {
   "cell_type": "code",
   "execution_count": 2,
   "id": "81eccfe7",
   "metadata": {},
   "outputs": [
    {
     "name": "stdout",
     "output_type": "stream",
     "text": [
      "5\n",
      "4\n",
      "3\n",
      "2\n",
      "1\n",
      "I am inside else.\n"
     ]
    }
   ],
   "source": [
    "#We will now be using while with else.\n",
    "count = 5\n",
    "while(count > 0):\n",
    "    print(count)\n",
    "    count = count - 1\n",
    "else:\n",
    "    print(\"I am inside else.\")"
   ]
  },
  {
   "cell_type": "code",
   "execution_count": 7,
   "id": "dda40b95",
   "metadata": {},
   "outputs": [
    {
     "name": "stdout",
     "output_type": "stream",
     "text": [
      "5 * 0 = 0\n",
      "5 * 1 = 5\n",
      "5 * 2 = 10\n",
      "5 * 3 = 15\n",
      "5 * 4 = 20\n",
      "5 * 5 = 25\n",
      "5 * 6 = 30\n",
      "5 * 7 = 35\n",
      "5 * 8 = 40\n",
      "5 * 9 = 45\n",
      "Loop has been broken.\n",
      "5 * 0 = 0\n",
      "5 * 1 = 5\n",
      "5 * 2 = 10\n",
      "5 * 3 = 15\n",
      "5 * 4 = 20\n",
      "5 * 5 = 25\n",
      "0\n",
      "1\n",
      "2\n"
     ]
    }
   ],
   "source": [
    "#Now, we will be discussing break and continue.\n",
    "#break, stops the loop and continue continues the loop.\n",
    "for i in range(12):\n",
    "    if(i == 10):\n",
    "        break\n",
    "    print(\"5 *\", i , \"=\", 5 * i)\n",
    "print(\"Loop has been broken.\")\n",
    "\n",
    "#Now, we will do a continue example.\n",
    "for i in range(6):\n",
    "    if(i==10):\n",
    "        print(\"Iteration will continue.\")\n",
    "        continue\n",
    "    print(\"5 *\",i,\"=\",5*i)\n",
    "    \n",
    "i = 0\n",
    "while True:\n",
    "    print(i)\n",
    "    i=i+1\n",
    "    if(i%3==0):\n",
    "        break"
   ]
  },
  {
   "cell_type": "code",
   "execution_count": 5,
   "id": "eb19185c",
   "metadata": {},
   "outputs": [
    {
     "name": "stdout",
     "output_type": "stream",
     "text": [
      "Addition= 44\n",
      "Subtraction= -20\n",
      "Mulitplication= 384\n",
      "Division= 0.375\n"
     ]
    }
   ],
   "source": [
    "#Now, we will talk about Functions in Python.\n",
    "def alloperations(a,b):\n",
    "    print(\"Addition=\",a+b)\n",
    "    print(\"Subtraction=\",a-b)\n",
    "    print(\"Mulitplication=\",a*b)\n",
    "    print(\"Division=\",a/b)\n",
    "    \n",
    "alloperations(12,32)\n",
    "    "
   ]
  },
  {
   "cell_type": "code",
   "execution_count": 13,
   "id": "d6ee76ae",
   "metadata": {},
   "outputs": [
    {
     "name": "stdout",
     "output_type": "stream",
     "text": [
      "Assalam-o-Aalaikum Syed Abid Hassan !\n",
      "The average is: 10.0\n",
      "The total is: 25\n",
      "Hello! Syed Abid Hassan\n"
     ]
    },
    {
     "data": {
      "text/plain": [
       "15"
      ]
     },
     "execution_count": 13,
     "metadata": {},
     "output_type": "execute_result"
    }
   ],
   "source": [
    "#There is a lot of things that we can do with function arguments.\n",
    "#Just like:\n",
    "def name(fname,mname=\"Abid\",lname=\"Hassan\"):\n",
    "    print(\"Assalam-o-Aalaikum\",fname,mname,lname,\"!\")\n",
    "    \n",
    "name(\"Syed\")\n",
    "\n",
    "def average(a,b,c=8):\n",
    "    print(\"The average is:\",(a+b+c)/2)\n",
    "    \n",
    "average(5,7)\n",
    "\n",
    "#We can also take tuples as functions argument.\n",
    "def addition(*numbers):\n",
    "    sum = 0\n",
    "    for i in numbers:\n",
    "        sum = sum + i\n",
    "    print(\"The total is:\",sum)\n",
    "    \n",
    "addition(3,4,5,6,7)\n",
    "\n",
    "#if we use ** before arguments it will be processed as dictionary.\n",
    "def name(**name):\n",
    "    print(\"Hello!\",name[\"fname\"],name[\"mname\"],name[\"lname\"])\n",
    "    \n",
    "name(fname=\"Syed\",mname=\"Abid\",lname=\"Hassan\")\n",
    "\n",
    "#Let's see an example of return statement\n",
    "def subtraction(a,b):\n",
    "    c=a-b\n",
    "    return c\n",
    "subtraction(20,5)"
   ]
  },
  {
   "cell_type": "code",
   "execution_count": 23,
   "id": "3b6966c3",
   "metadata": {},
   "outputs": [
    {
     "name": "stdout",
     "output_type": "stream",
     "text": [
      "23\n",
      "Abid\n",
      "23\n",
      "45\n",
      "43\n",
      "87\n",
      "54\n",
      "False\n",
      "Abid\n",
      "True\n",
      "[45, 43, 87]\n",
      "[23, 45, 43, 87, 54]\n",
      "[0, 1, 4, 9, 16, 25, 36, 49, 64, 81]\n"
     ]
    }
   ],
   "source": [
    "#Now we will see lists and it's methods that we can apply on a list.\n",
    "marks=[23,45,43,87,54,False,\"Abid\"]\n",
    "#print(marks)\n",
    "print(marks[0])\n",
    "#print(marks[1])\n",
    "#print(marks[2])\n",
    "#print(marks[5])\n",
    "#we can also perform negative indexing as\n",
    "print(marks[-1])\n",
    "#to print all elements of lists via loop\n",
    "for i in marks:\n",
    "    print(i)\n",
    "#we can also apply conditions on lists\n",
    "if(23 in marks):\n",
    "    print(\"True\")\n",
    "else:\n",
    "    print(\"False\")\n",
    "    \n",
    "#we can also use range of indexes.\n",
    "print(marks[1:4])\n",
    "print(marks[:5])\n",
    "#You can also create a list using for loop.\n",
    "num=[i*i for i in range(10)] #list of square numbers.\n",
    "print(num)"
   ]
  },
  {
   "cell_type": "code",
   "execution_count": 13,
   "id": "cf80f947",
   "metadata": {},
   "outputs": [
    {
     "name": "stdout",
     "output_type": "stream",
     "text": [
      "[2, 5, 6, 4, 9]\n",
      "[2, 4, 5, 6, 9]\n",
      "[9, 6, 5, 4, 2]\n",
      "1\n",
      "1\n",
      "[9, 6, 5, 4, 2]\n",
      "[9, 6, 344, 5, 4, 2]\n",
      "[9, 6, 344, 5, 4, 2, 12, 32, 14]\n"
     ]
    }
   ],
   "source": [
    "#Now we will work on list methods.\n",
    "num=[2,5,6,4]\n",
    "num.append(9) #to append a new element\n",
    "print(num)\n",
    "num.sort() #to sort the list in ascending order.\n",
    "print(num)\n",
    "num.sort(reverse=True) #to sort teh list in descending order.\n",
    "print(num)\n",
    "print(num.index(6)) #it will print the index number of the mentioned element.\n",
    "print(num.count(9)) #it will count the number of occurences of the mentioned element.\n",
    "numbers=num.copy() #it makes the copy of the list.\n",
    "print(numbers)\n",
    "numbers.insert(2,344) #it inserts 344 at the second index\n",
    "print(numbers)\n",
    "m=[12,32,14]\n",
    "numbers.extend(m) #it extends the numbers list with the list \"m\".\n",
    "print(numbers)\n"
   ]
  },
  {
   "cell_type": "code",
   "execution_count": 7,
   "id": "45059f1d",
   "metadata": {},
   "outputs": [
    {
     "name": "stdout",
     "output_type": "stream",
     "text": [
      "('green', 'red', 'blue') (12,) (1, 3, 45, 3)\n",
      "['spain', 'uk', 'australia', 'canada', 'malaysia', 'usa']\n",
      "['australia', 'canada', 'malaysia', 'spain', 'uk', 'usa']\n",
      "('australia', 'canada', 'malaysia', 'spain', 'uk', 'usa')\n"
     ]
    }
   ],
   "source": [
    "#Now we will move forward to Tuples.\n",
    "#Tuples are same as list but immutable.\n",
    "tup=(1,3,45,3)\n",
    "tup1=(12,) #to create a single element tuple we have to add a comma at the end otherwise python will\n",
    "          #consider it as integer.\n",
    "tuple1=(\"green\",\"red\",\"blue\")\n",
    "print(tuple1,tup1,tup)\n",
    "#all the other things are same but the only difference is that it cannot be changed.\n",
    "#as tuple is immutable but it can be changed using a alternative way.\n",
    "countries=('spain','uk','australia','canada','malaysia')\n",
    "temp=list(countries)\n",
    "temp.append('usa')\n",
    "print(temp)\n",
    "temp.sort()\n",
    "print(temp)\n",
    "countries=tuple(temp)\n",
    "print(countries)\n",
    "#this is how you make changes in a tuple."
   ]
  },
  {
   "cell_type": "code",
   "execution_count": 6,
   "id": "1177f16a",
   "metadata": {},
   "outputs": [
    {
     "name": "stdout",
     "output_type": "stream",
     "text": [
      "My name is Syed Abid Hassan and I am from Pakistan\n",
      "I go by Syed Abid Hassan and I am from Pakistan\n",
      "For only 98.77 rupees!\n",
      "90\n"
     ]
    }
   ],
   "source": [
    "#let's get started with string formatting.\n",
    "letter=\"My name is {} and I am from {}\"\n",
    "name=\"Syed Abid Hassan\"\n",
    "country=\"Pakistan\"\n",
    "\n",
    "print(letter.format(name,country))\n",
    "#now we will talk about f-strings.\n",
    "#it is a string formatting mechanism used in Python.\n",
    "print(f\"I go by {name} and I am from {country}\")\n",
    "\n",
    "#we can also print numbers rounded off to certain number of decimals.\n",
    "text=\"For only {price:.2f} rupees!\"\n",
    "print(text.format(price=98.7654))\n",
    "#we can also multiply numbers using f-string.\n",
    "print(f\"{2 * 45}\")"
   ]
  }
 ],
 "metadata": {
  "kernelspec": {
   "display_name": "Python 3 (ipykernel)",
   "language": "python",
   "name": "python3"
  },
  "language_info": {
   "codemirror_mode": {
    "name": "ipython",
    "version": 3
   },
   "file_extension": ".py",
   "mimetype": "text/x-python",
   "name": "python",
   "nbconvert_exporter": "python",
   "pygments_lexer": "ipython3",
   "version": "3.9.13"
  }
 },
 "nbformat": 4,
 "nbformat_minor": 5
}
